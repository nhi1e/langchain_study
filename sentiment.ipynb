{
 "cells": [
  {
   "cell_type": "code",
   "execution_count": 13,
   "id": "59bece11",
   "metadata": {},
   "outputs": [],
   "source": [
    "import os\n",
    "import getpass\n",
    "from dotenv import load_dotenv\n",
    "from pydantic import BaseModel, Field\n",
    "from langchain.prompts import ChatPromptTemplate\n",
    "from langchain.chat_models import init_chat_model\n",
    "\n",
    "load_dotenv()\n",
    "if \"OPENAI_API_KEY\" not in os.environ:\n",
    "    os.environ[\"OPENAI_API_KEY\"] = getpass.getpass(\"Enter your OpenAI API key: \")\n",
    "\n",
    "llm = init_chat_model(\"gpt-4o-mini\", temperature=0.0)"
   ]
  },
  {
   "cell_type": "code",
   "execution_count": 14,
   "id": "2bad07d4",
   "metadata": {},
   "outputs": [],
   "source": [
    "tagging_prompt = ChatPromptTemplate.from_template(\n",
    "    \"\"\"\n",
    "        You are a helpful assistant in extracting specific properties from a passage.\n",
    "        Extract the desired information from the following passage.\n",
    "\n",
    "        Only extract the properties mentioned in the 'Sentiment' function.\n",
    "\n",
    "        Passage: {passage}\n",
    "    \"\"\" \n",
    ")\n",
    "\n",
    "class Sentiment(BaseModel):\n",
    "    sentiment: str = Field(\"description: The overall sentiment of the passage, such as 'positive', 'negative', or 'neutral'.\")\n",
    "    confidence: str = Field(\"description: The confidence in the passage from 0.0 to 10,0.0, where 0.0 is no confidence and 10.0 is complete confidence.\")\n",
    "    aggresion: str = Field(\"description: The level of aggression in the passage, from 0.0 to 10.0, where 0.0 is no aggression and 10.0 is extreme aggression.\")"
   ]
  },
  {
   "cell_type": "code",
   "execution_count": 16,
   "id": "c04d5d9b",
   "metadata": {},
   "outputs": [
    {
     "name": "stdout",
     "output_type": "stream",
     "text": [
      "sentiment='hate' confidence='high' aggresion='high'\n"
     ]
    }
   ],
   "source": [
    "structured_llm = llm.with_structured_output(Sentiment)\n",
    "\n",
    "def extract_sentiment(psg: str) -> Sentiment:\n",
    "    prompt = tagging_prompt.invoke({\"passage\": psg})\n",
    "    response = structured_llm.invoke(prompt)\n",
    "    return response\n",
    "\n",
    "# Example usage\n",
    "if __name__ == \"__main__\":\n",
    "    psg = \"i think that maybe i hate you and maybe i hate everything about you i hate your face i hate your hair i hate your clothes i hate your shoes i hate your car i hate your house i hate your job i hate your friends i hate your family i hate your life\"\n",
    "    sentiment = extract_sentiment(psg)\n",
    "    print(sentiment)"
   ]
  }
 ],
 "metadata": {
  "kernelspec": {
   "display_name": "Python 3",
   "language": "python",
   "name": "python3"
  },
  "language_info": {
   "codemirror_mode": {
    "name": "ipython",
    "version": 3
   },
   "file_extension": ".py",
   "mimetype": "text/x-python",
   "name": "python",
   "nbconvert_exporter": "python",
   "pygments_lexer": "ipython3",
   "version": "3.11.2"
  }
 },
 "nbformat": 4,
 "nbformat_minor": 5
}
