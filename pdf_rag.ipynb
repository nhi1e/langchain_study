{
 "cells": [
  {
   "cell_type": "code",
   "execution_count": 10,
   "id": "bafbe2fc",
   "metadata": {},
   "outputs": [],
   "source": [
    "import getpass\n",
    "import os\n",
    "from dotenv import load_dotenv\n",
    "from langchain_openai import ChatOpenAI\n",
    "\n",
    "os.environ[\"LANGCHAIN_TRACING_V2\"] = \"true\"\n",
    "\n",
    "load_dotenv()\n",
    "if \"OPENAI_API_KEY\" not in os.environ:\n",
    "    os.environ[\"OPENAI_API_KEY\"] = getpass.getpass(\"Enter your OpenAI API key: \")\n",
    "if \"LANGCHAIN_API_KEY\" not in os.environ:\n",
    "    os.environ[\"LANGCHAIN_API_KEY\"] = getpass.getpass(\"Enter your LangChain API key: \")\n",
    "\n",
    "llm = ChatOpenAI(model=\"gpt-4o-mini\")"
   ]
  },
  {
   "cell_type": "code",
   "execution_count": 11,
   "id": "1d47ac3b",
   "metadata": {},
   "outputs": [],
   "source": [
    "from langchain_community.document_loaders import PyPDFLoader\n",
    "#load\n",
    "file_path = \"test.pdf\"\n",
    "loader = PyPDFLoader(file_path) # extracts text from PDF file\n",
    "\n",
    "docs = loader.load()  # create langchain document for each page of the pdf (page content + metadata)"
   ]
  },
  {
   "cell_type": "code",
   "execution_count": 12,
   "id": "c4c6b681",
   "metadata": {},
   "outputs": [],
   "source": [
    "from langchain.text_splitter import RecursiveCharacterTextSplitter\n",
    "from langchain_chroma import Chroma             # vector store\n",
    "from langchain_openai import OpenAIEmbeddings   # embedding model\n",
    "\n",
    "# split\n",
    "text_splitter = RecursiveCharacterTextSplitter(\n",
    "    chunk_size=1000, \n",
    "    chunk_overlap=200, \n",
    ")\n",
    "all_splits = text_splitter.split_documents(docs)\n",
    "#embed\n",
    "vector_store = Chroma.from_documents(documents=all_splits, embedding=OpenAIEmbeddings())\n",
    "#retrieve\n",
    "retriever = vector_store.as_retriever()"
   ]
  },
  {
   "cell_type": "code",
   "execution_count": null,
   "id": "2f370773",
   "metadata": {},
   "outputs": [
    {
     "data": {
      "text/plain": [
       "{'input': 'What are the main topics covered in the PDF?',\n",
       " 'context': [Document(id='2d58e7f9-397f-4c3a-888f-1570f8a5192b', metadata={'total_pages': 30, 'title': 'Food safety aspects of cell-based food', 'moddate': '2022-09-29T09:40:10+02:00', 'creationdate': '2022-09-29T07:28:32+00:00', 'page_label': '5', 'producer': 'PDFTron PDFNet, V9.21306', 'page': 4, 'creator': 'PyPDF', 'source': 'test.pdf'}, page_content='iii \\n \\nContents \\n \\n \\nAcknowledgements ............................................................................................................................................... iv \\nAbbreviations and acronyms .................................................................................................................................. v \\nExecutive summary ................................................................................................................................................ vi \\n1. Introduction .................................................................................................................................................. 1 \\n1.1. Background .......................................................................................................................................... 1 \\n1.2. Scope ................................................................................................................................................... 2'),\n",
       "  Document(id='617351f0-53ed-4aaf-9fbd-edcd4294e361', metadata={'page': 4, 'producer': 'PDFTron PDFNet, V9.21306', 'total_pages': 30, 'source': 'test.pdf', 'page_label': '5', 'moddate': '2022-09-29T09:40:10+02:00', 'creator': 'PyPDF', 'title': 'Food safety aspects of cell-based food', 'creationdate': '2022-09-29T07:28:32+00:00'}, page_content='iii \\n \\nContents \\n \\n \\nAcknowledgements ............................................................................................................................................... iv \\nAbbreviations and acronyms .................................................................................................................................. v \\nExecutive summary ................................................................................................................................................ vi \\n1. Introduction .................................................................................................................................................. 1 \\n1.1. Background .......................................................................................................................................... 1 \\n1.2. Scope ................................................................................................................................................... 2'),\n",
       "  Document(id='472ac25c-00a8-40f4-832e-67ad61594366', metadata={'title': 'Food safety aspects of cell-based food', 'moddate': '2022-09-29T09:40:10+02:00', 'source': 'test.pdf', 'creator': 'PyPDF', 'producer': 'PDFTron PDFNet, V9.21306', 'total_pages': 30, 'page_label': '5', 'page': 4, 'creationdate': '2022-09-29T07:28:32+00:00'}, page_content='5. Discussion .................................................................................................................................................... 19 \\nReferences ............................................................................................................................................................ 20'),\n",
       "  Document(id='610c8f65-2dc2-4805-adaa-d65df5e9dc07', metadata={'moddate': '2022-09-29T09:40:10+02:00', 'producer': 'PDFTron PDFNet, V9.21306', 'source': 'test.pdf', 'title': 'Food safety aspects of cell-based food', 'page_label': '5', 'total_pages': 30, 'creator': 'PyPDF', 'page': 4, 'creationdate': '2022-09-29T07:28:32+00:00'}, page_content='5. Discussion .................................................................................................................................................... 19 \\nReferences ............................................................................................................................................................ 20')],\n",
       " 'answer': 'The PDF covers the following main topics: acknowledgements, abbreviations and acronyms, an executive summary, an introduction (including background and scope), a discussion section, and references.'}"
      ]
     },
     "execution_count": 17,
     "metadata": {},
     "output_type": "execute_result"
    }
   ],
   "source": [
    "from langchain.chains import create_retrieval_chain\n",
    "from langchain.chains.combine_documents import create_stuff_documents_chain\n",
    "from langchain_core.prompts import ChatPromptTemplate\n",
    "\n",
    "system_prompt = (\n",
    "    \"\"\"\n",
    "        You are a helpful assistant for answering questions based on the content of a PDF document.\n",
    "        Use the following pieces of context to answer the question.\n",
    "        If you don't know the answer, just say that you don't know, don't try to make\n",
    "        up an answer. Use maximum 3 sentences to keep the answer concise.\n",
    "\n",
    "        Context: {context}\n",
    "    \"\"\"\n",
    ")\n",
    "prompt = ChatPromptTemplate.from_messages(\n",
    "    [\n",
    "        (\"system\", system_prompt),\n",
    "        (\"human\", \"{input}\"),\n",
    "    ]\n",
    ")\n",
    "qa_chain = create_stuff_documents_chain(llm, prompt)    # 2. inject context into the prompt and pass to LLM\n",
    "rag_chain = create_retrieval_chain(retriever, qa_chain) # 1. retrieve data, passes to qa_chain\n",
    "\n",
    "results = rag_chain.invoke({\"input\": \"What are the main topics covered in the PDF?\"})\n",
    "results"
   ]
  }
 ],
 "metadata": {
  "kernelspec": {
   "display_name": "Python 3",
   "language": "python",
   "name": "python3"
  },
  "language_info": {
   "codemirror_mode": {
    "name": "ipython",
    "version": 3
   },
   "file_extension": ".py",
   "mimetype": "text/x-python",
   "name": "python",
   "nbconvert_exporter": "python",
   "pygments_lexer": "ipython3",
   "version": "3.11.2"
  }
 },
 "nbformat": 4,
 "nbformat_minor": 5
}
