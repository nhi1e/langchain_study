{
 "cells": [
  {
   "cell_type": "code",
   "execution_count": 8,
   "id": "326e9e89",
   "metadata": {},
   "outputs": [],
   "source": [
    "import getpass\n",
    "import os\n",
    "from dotenv import load_dotenv\n",
    "from langchain_openai import ChatOpenAI\n",
    "\n",
    "os.environ[\"LANGCHAIN_TRACING_V2\"] = \"true\"\n",
    "\n",
    "load_dotenv()\n",
    "if \"OPENAI_API_KEY\" not in os.environ:\n",
    "    os.environ[\"OPENAI_API_KEY\"] = getpass.getpass(\"Enter your OpenAI API key: \")\n",
    "if \"LANGCHAIN_API_KEY\" not in os.environ:\n",
    "    os.environ[\"LANGCHAIN_API_KEY\"] = getpass.getpass(\"Enter your LangChain API key: \")\n",
    "        \n",
    "llm = ChatOpenAI(model=\"gpt-4o-mini\")\n",
    "\n",
    "from langchain_community.document_loaders import PyPDFLoader\n",
    "#load\n",
    "file_path = \"test.pdf\"\n",
    "loader = PyPDFLoader(file_path) # extracts text from PDF file\n",
    "docs = loader.load()\n",
    "\n",
    "print(docs)"
   ]
  },
  {
   "cell_type": "code",
   "execution_count": 9,
   "id": "b8915b30",
   "metadata": {},
   "outputs": [],
   "source": [
    "from langchain_community.document_loaders import PyPDFLoader\n",
    "from langchain_community.document_loaders import WebBaseLoader\n",
    "\n",
    "#load\n",
    "file_path = \"test.pdf\"\n",
    "loader = PyPDFLoader(file_path) # extracts text from PDF file\n",
    "docs = loader.load()  # create langchain document for each page of the pdf (page content + metadata)"
   ]
  },
  {
   "cell_type": "code",
   "execution_count": null,
   "id": "40b5bbc5",
   "metadata": {},
   "outputs": [
    {
     "name": "stdout",
     "output_type": "stream",
     "text": [
      "The document from the Food and Agriculture Organization (FAO) focuses on the food safety aspects of cell-based food, centering on terminologies associated with these products. As cell-based technologies for producing animal proteins from cultured cells rapidly evolve, a variety of terminologies have emerged, contributing to confusion among consumers, regulators, and industry professionals. Key terms such as “cultured”, “cultivated”, and “cell-based” are frequently used, but there is no consensus on their definitions or implications.\n",
      "\n",
      "The report identifies several challenges linked to terminology, including public perception, language barriers, and regulatory frameworks. Acceptance of these products may be influenced by the terminology used—terms like “clean” or “lab-grown” could evoke negative associations, while “cultivated” appears more favorable among consumers. Regulatory bodies in different jurisdictions, such as Singapore and the US, are considering how to label these products to ensure transparency and consumer safety.\n",
      "\n",
      "To support informed policymaking, the document emphasizes the importance of using clear and consistent terminologies across sectors and identifies the need for harmonization at a global level. Recommendations for future communications aim to enhance public understanding and acceptance of cell-based food products as they become more prevalent in the market.\n",
      "\n",
      "Overall, this synthesis underscores the need for further discussion and standardization in the terminology surrounding cell-based food to address safety, ethics, and consumer preferences effectively.\n"
     ]
    }
   ],
   "source": [
    "from langchain.chains.combine_documents import create_stuff_documents_chain\n",
    "from langchain.chains.llm import LLMChain\n",
    "from langchain_core.prompts import ChatPromptTemplate\n",
    "\n",
    "system_prompt = (\n",
    "    \"\"\"\n",
    "        You are a helpful assistant for summarizing long documents or articles into concise summaries while preserving key information and context.\n",
    "        Always include the title of the document as the title of \n",
    "        Write a concise summary of the following: {context}\n",
    "    \"\"\"\n",
    ")\n",
    "# Define prompt\n",
    "prompt = ChatPromptTemplate.from_messages(\n",
    "    [\n",
    "        (\"system\", system_prompt),\n",
    "    ]\n",
    ")\n",
    "\n",
    "# Instantiate chain\n",
    "chain = create_stuff_documents_chain(llm, prompt)\n",
    "\n",
    "\n",
    "# Invoke chain\n",
    "result = chain.invoke({\"context\": docs})\n",
    "print(result)"
   ]
  }
 ],
 "metadata": {
  "kernelspec": {
   "display_name": "Python 3",
   "language": "python",
   "name": "python3"
  },
  "language_info": {
   "codemirror_mode": {
    "name": "ipython",
    "version": 3
   },
   "file_extension": ".py",
   "mimetype": "text/x-python",
   "name": "python",
   "nbconvert_exporter": "python",
   "pygments_lexer": "ipython3",
   "version": "3.undefined.undefined"
  }
 },
 "nbformat": 4,
 "nbformat_minor": 5
}
