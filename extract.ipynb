{
 "cells": [
  {
   "cell_type": "code",
   "execution_count": 1,
   "id": "59bece11",
   "metadata": {},
   "outputs": [],
   "source": [
    "import os\n",
    "import getpass\n",
    "from dotenv import load_dotenv\n",
    "from pydantic import BaseModel, Field\n",
    "from langchain.prompts import ChatPromptTemplate\n",
    "from langchain.chat_models import init_chat_model\n",
    "\n",
    "load_dotenv()\n",
    "if \"OPENAI_API_KEY\" not in os.environ:\n",
    "    os.environ[\"OPENAI_API_KEY\"] = getpass.getpass(\"Enter your OpenAI API key: \")\n",
    "\n",
    "llm = init_chat_model(\"gpt-4o-mini\", temperature=0.0)"
   ]
  },
  {
   "cell_type": "code",
   "execution_count": null,
   "id": "2bad07d4",
   "metadata": {},
   "outputs": [],
   "source": [
    "tagging_prompt = ChatPromptTemplate.from_template(\n",
    "    \"\"\"\n",
    "        You are a helpful assistant in extracting key data from a passage.\n",
    "        Extract the desired information from the following passage.\n",
    "\n",
    "        Only extract the properties mentioned in the 'Extract' function.\n",
    "\n",
    "        Passage: {passage}\n",
    "    \"\"\" \n",
    ")\n",
    "\n",
    "class Extract(BaseModel):\n",
    "    first_name: str = Field(description=\"The first name of the person.\")\n",
    "    last_name: str = Field(description=\"The last name of the person.\")\n",
    "    age: int = Field(description=\"The age of the person.\")\n",
    "    location: str = Field(description=\"The location of the person.\")\n",
    "    sentiment: str = Field(description=\"The sentiment expressed in the passage.\")\n",
    "\n",
    "# *** Define the structured output for the LLM\n",
    "# *** This makes LLM to return a structured answer instead of free text.\n",
    "structured_llm = llm.with_structured_output(Extract)"
   ]
  },
  {
   "cell_type": "code",
   "execution_count": null,
   "id": "c04d5d9b",
   "metadata": {},
   "outputs": [
    {
     "name": "stdout",
     "output_type": "stream",
     "text": [
      "first_name='Sarah' last_name='Johnson' age=26 location='USA' sentiment='positive'\n"
     ]
    }
   ],
   "source": [
    "def extract_keyData(psg: str) -> Extract:\n",
    "    prompt = tagging_prompt.invoke({\"passage\": psg})\n",
    "    response = structured_llm.invoke(prompt)\n",
    "    return response\n",
    "\n",
    "# Example usage\n",
    "if __name__ == \"__main__\":\n",
    "    psg = \"I absolutely love this product! I'm 26 y/o. It's been a game-changer for my daily routine. The quality is top-notch and the customer service is outstanding. I've recommended it to all my friends and family - Sarah Johnson, USA.\"\n",
    "    keyData = extract_keyData(psg)\n",
    "    print(keyData)"
   ]
  }
 ],
 "metadata": {
  "kernelspec": {
   "display_name": "Python 3",
   "language": "python",
   "name": "python3"
  },
  "language_info": {
   "codemirror_mode": {
    "name": "ipython",
    "version": 3
   },
   "file_extension": ".py",
   "mimetype": "text/x-python",
   "name": "python",
   "nbconvert_exporter": "python",
   "pygments_lexer": "ipython3",
   "version": "3.11.2"
  }
 },
 "nbformat": 4,
 "nbformat_minor": 5
}
